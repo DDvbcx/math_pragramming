{
 "cells": [
  {
   "cell_type": "markdown",
   "metadata": {},
   "source": [
    "### 几何建模\n",
    "分析几何问题的方法：\n",
    " 1. 传统几何的演绎-证明体系\n",
    " 2. 基于向量的计算几何\n",
    " 3. 基于极坐标与方程的解析几何"
   ]
  },
  {
   "cell_type": "code",
   "execution_count": 1,
   "metadata": {},
   "outputs": [],
   "source": [
    "import numpy as np"
   ]
  },
  {
   "cell_type": "markdown",
   "metadata": {},
   "source": [
    "#### 1.1 numpy.linalg 的使用\n"
   ]
  },
  {
   "cell_type": "code",
   "execution_count": 2,
   "metadata": {},
   "outputs": [
    {
     "name": "stdout",
     "output_type": "stream",
     "text": [
      "矩阵 A 的逆：\n",
      " [[-2.   1. ]\n",
      " [ 1.5 -0.5]]\n"
     ]
    }
   ],
   "source": [
    "### 计算矩阵的逆\n",
    "A = np.array([[1, 2], [3, 4]])\n",
    "A_inv = np.linalg.inv(A)\n",
    "print(\"矩阵 A 的逆：\\n\", A_inv)"
   ]
  },
  {
   "cell_type": "code",
   "execution_count": 4,
   "metadata": {},
   "outputs": [
    {
     "name": "stdout",
     "output_type": "stream",
     "text": [
      "特征值： [ 1.61168440e+01 -1.11684397e+00 -1.30367773e-15]\n",
      "特征向量：\n",
      " [[-0.23197069 -0.78583024  0.40824829]\n",
      " [-0.52532209 -0.08675134 -0.81649658]\n",
      " [-0.8186735   0.61232756  0.40824829]]\n"
     ]
    }
   ],
   "source": [
    "### 计算矩阵的特征值和特征向量\n",
    "'''numpy.linalg.eig 用于计算方阵的特征值和特征向量'''\n",
    "A = np.array([[1, 2, 3], [4, 5, 6], [7, 8, 9]])\n",
    "\n",
    "eigenvalues, eigenvectors = np.linalg.eig(A)\n",
    "print(\"特征值：\", eigenvalues)\n",
    "print(\"特征向量：\\n\", eigenvectors)"
   ]
  },
  {
   "cell_type": "code",
   "execution_count": 5,
   "metadata": {},
   "outputs": [
    {
     "name": "stdout",
     "output_type": "stream",
     "text": [
      "U 矩阵：\n",
      " [[-0.21483724  0.88723069  0.40824829]\n",
      " [-0.52058739  0.24964395 -0.81649658]\n",
      " [-0.82633754 -0.38794278  0.40824829]]\n",
      "奇异值： [1.68481034e+01 1.06836951e+00 4.41842475e-16]\n",
      "VT 矩阵：\n",
      " [[-0.47967118 -0.57236779 -0.66506441]\n",
      " [-0.77669099 -0.07568647  0.62531805]\n",
      " [-0.40824829  0.81649658 -0.40824829]]\n"
     ]
    }
   ],
   "source": [
    "### 奇异值分解\n",
    "'''numpy.linalg.svd  用于对矩阵进行奇异值分解'''\n",
    "A = np.array([[1, 2, 3], [4, 5, 6], [7, 8, 9]])\n",
    "\n",
    "U, S, VT = np.linalg.svd(A)\n",
    "print(\"U 矩阵：\\n\", U)\n",
    "print(\"奇异值：\", S)\n",
    "print(\"VT 矩阵：\\n\", VT)"
   ]
  },
  {
   "cell_type": "markdown",
   "metadata": {},
   "source": [
    "#### 1.2 问题一"
   ]
  },
  {
   "cell_type": "code",
   "execution_count": 6,
   "metadata": {},
   "outputs": [
    {
     "name": "stderr",
     "output_type": "stream",
     "text": [
      "d:\\Anaconda3\\envs\\torch\\lib\\site-packages\\scipy\\optimize\\minpack.py:175: RuntimeWarning: The iteration is not making good progress, as measured by the \n",
      "  improvement from the last ten iterations.\n",
      "  warnings.warn(msg, RuntimeWarning)\n"
     ]
    }
   ],
   "source": [
    "from scipy.optimize import fsolve\n",
    "\n",
    "theta = 2 * np.pi / 3 \n",
    "alpha = 1.5 / 180 * np.pi  \n",
    "htheta = theta / 2  \n",
    "h = 70  \n",
    "d = 200  \n",
    "k = np.tan(np.pi / 2 - htheta)\n",
    "k0 = np.tan(alpha)\n",
    "\n",
    "\n",
    "# 初始化\n",
    "Aleft = []  # 左端点坐标\n",
    "Aright = []  # 右端点坐标\n",
    "Acenter = []   # 中心点坐标\n",
    "W = [] # 覆盖宽度\n",
    "\n",
    "for n in range(-4, 5):\n",
    "    leftsolve = lambda t: k * (t - n * d) - k0 * t + h\n",
    "    rightsolve = lambda t: -k * (t - n * d) - k0 * t + h\n",
    "    tleft = fsolve(leftsolve, 0)\n",
    "    tright = fsolve(rightsolve, 0)\n",
    "    Aleft.append([tleft[0], k0 * tleft[0] - h])\n",
    "    Aright.append([tright[0], k0 * tright[0] - h])\n",
    "    Acenter.append([200 * n, k0 * 200 * n - h])\n",
    "Aleft = np.array(Aleft)\n",
    "Aright = np.array(Aright)\n",
    "Acenter = np.array(Acenter)\n",
    "D = Acenter[:, 1]  # 海水深度\n",
    "W = np.sqrt((Aleft[:, 0] - Aright[:, 0]) ** 2 + (Aleft[:, 1] - Aright[:, 1]) ** 2)  # 覆盖宽度\n",
    "\n",
    "# 计算重合部分\n",
    "cover = np.zeros(8)\n",
    "for i in range(8):\n",
    "    cover[i] = np.sqrt((Aright[i, 0] - Aleft[i + 1, 0]) ** 2 + (Aright[i, 1] - Aleft[i + 1, 1]) ** 2)\n",
    "eta = cover / W[1:]"
   ]
  },
  {
   "cell_type": "code",
   "execution_count": 8,
   "metadata": {},
   "outputs": [
    {
     "name": "stdout",
     "output_type": "stream",
     "text": [
      "海水深度 D: \n",
      " [90.94873726 85.71155294 80.47436863 75.23718431 70.         64.76281569\n",
      " 59.52563137 54.28844706 49.05126274]\n",
      "覆盖宽度 W: \n",
      " [315.81332829 297.62756059 279.44179288 261.25602517 243.07025746\n",
      " 224.88448975 206.69872205 188.51295434 170.32718663]\n",
      "重合部分比例 eta: \n",
      " [0.35695443 0.31510572 0.26743092 0.21262236 0.14894938 0.07407224\n",
      " 0.01525164 0.12364966]\n"
     ]
    }
   ],
   "source": [
    "print(\"海水深度 D: \\n\", -D)\n",
    "print(\"覆盖宽度 W: \\n\", W)\n",
    "print(\"重合部分比例 eta: \\n\", eta)"
   ]
  },
  {
   "cell_type": "code",
   "execution_count": null,
   "metadata": {},
   "outputs": [],
   "source": []
  }
 ],
 "metadata": {
  "kernelspec": {
   "display_name": "torch",
   "language": "python",
   "name": "python3"
  },
  "language_info": {
   "codemirror_mode": {
    "name": "ipython",
    "version": 3
   },
   "file_extension": ".py",
   "mimetype": "text/x-python",
   "name": "python",
   "nbconvert_exporter": "python",
   "pygments_lexer": "ipython3",
   "version": "3.8.19"
  }
 },
 "nbformat": 4,
 "nbformat_minor": 2
}
